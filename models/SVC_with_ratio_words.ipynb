{
 "cells": [
  {
   "cell_type": "code",
   "execution_count": 1,
   "id": "8a4bffba-f203-4060-917a-47de595c1f6e",
   "metadata": {
    "tags": []
   },
   "outputs": [],
   "source": [
    "import pandas as pd\n",
    "import numpy as np\n",
    "from sklearn.model_selection import train_test_split\n",
    "from sklearn.feature_extraction.text import TfidfVectorizer\n",
    "from sklearn.svm import SVC\n",
    "from sklearn.pipeline import FeatureUnion, make_pipeline\n",
    "from sklearn.metrics import classification_report, confusion_matrix\n",
    "import seaborn as sns\n",
    "import matplotlib.pyplot as plt\n",
    "import json"
   ]
  },
  {
   "cell_type": "code",
   "execution_count": 2,
   "id": "0675cacc-8c6d-4e29-b812-c00034e55f96",
   "metadata": {
    "tags": []
   },
   "outputs": [],
   "source": [
    "data = []\n",
    "with open(\"multinli_1.0_train.jsonl\", \"r\") as f:\n",
    "    for line in f:\n",
    "        data.append(json.loads(line))"
   ]
  },
  {
   "cell_type": "code",
   "execution_count": 3,
   "id": "4d81bed0-b07b-467f-86bb-4df18a2e4ba0",
   "metadata": {
    "tags": []
   },
   "outputs": [
    {
     "data": {
      "text/plain": [
       "392702"
      ]
     },
     "execution_count": 3,
     "metadata": {},
     "output_type": "execute_result"
    }
   ],
   "source": [
    "len(data)"
   ]
  },
  {
   "cell_type": "code",
   "execution_count": 4,
   "id": "e58b0977-cdf3-485e-abd2-4f86174d9f0c",
   "metadata": {
    "tags": []
   },
   "outputs": [
    {
     "name": "stdout",
     "output_type": "stream",
     "text": [
      "data0\n",
      "annotation: ['neutral']\n",
      "sentence1: Conceptually cream skimming has two basic dimensions - product and geography.\n",
      "sentence2: Product and geography are what make cream skimming work. \n",
      "\n",
      "\n",
      "data1\n",
      "annotation: ['entailment']\n",
      "sentence1: you know during the season and i guess at at your level uh you lose them to the next level if if they decide to recall the the parent team the Braves decide to call to recall a guy from triple A then a double A guy goes up to replace him and a single A guy goes up to replace him\n",
      "sentence2: You lose the things to the following level if the people recall.\n",
      "\n",
      "\n",
      "data2\n",
      "annotation: ['entailment']\n",
      "sentence1: One of our number will carry out your instructions minutely.\n",
      "sentence2: A member of my team will execute your orders with immense precision.\n",
      "\n",
      "\n",
      "data3\n",
      "annotation: ['entailment']\n",
      "sentence1: How do you know? All this is their information again.\n",
      "sentence2: This information belongs to them.\n",
      "\n",
      "\n",
      "data4\n",
      "annotation: ['neutral']\n",
      "sentence1: yeah i tell you what though if you go price some of those tennis shoes i can see why now you know they're getting up in the hundred dollar range\n",
      "sentence2: The tennis shoes have a range of prices.\n",
      "\n",
      "\n",
      "data5\n",
      "annotation: ['entailment']\n",
      "sentence1: my walkman broke so i'm upset now i just have to turn the stereo up real loud\n",
      "sentence2: I'm upset that my walkman broke and now I have to turn the stereo up really loud.\n",
      "\n",
      "\n",
      "data6\n",
      "annotation: ['neutral']\n",
      "sentence1: But a few Christian mosaics survive above the apse is the Virgin with the infant Jesus, with the Archangel Gabriel to the right (his companion Michael, to the left, has vanished save for a few feathers from his wings).\n",
      "sentence2: Most of the Christian mosaics were destroyed by Muslims.  \n",
      "\n",
      "\n",
      "data7\n",
      "annotation: ['entailment']\n",
      "sentence1: (Read  for Slate 's take on Jackson's findings.)\n",
      "sentence2: Slate had an opinion on Jackson's findings.\n",
      "\n",
      "\n",
      "data8\n",
      "annotation: ['contradiction']\n",
      "sentence1: Gays and lesbians.\n",
      "sentence2: Heterosexuals.\n",
      "\n",
      "\n",
      "data9\n",
      "annotation: ['contradiction']\n",
      "sentence1: At the end of Rue des Francs-Bourgeois is what many consider to be the city's most handsome residential square, the Place des Vosges, with its stone and red brick facades.\n",
      "sentence2: Place des Vosges is constructed entirely of gray marble.\n",
      "\n",
      "\n"
     ]
    }
   ],
   "source": [
    "\n",
    "for i  in range (10):\n",
    "    print('data'+str(i))\n",
    "    print('annotation:',data[i]['annotator_labels'])\n",
    "    print('sentence1:',data[i]['sentence1'])\n",
    "    print('sentence2:',data[i]['sentence2'])\n",
    "    print('\\n')"
   ]
  },
  {
   "cell_type": "code",
   "execution_count": 5,
   "id": "5228e3ce-973b-4b49-bf08-deee5d1fb71e",
   "metadata": {},
   "outputs": [
    {
     "data": {
      "text/html": [
       "<div>\n",
       "<style scoped>\n",
       "    .dataframe tbody tr th:only-of-type {\n",
       "        vertical-align: middle;\n",
       "    }\n",
       "\n",
       "    .dataframe tbody tr th {\n",
       "        vertical-align: top;\n",
       "    }\n",
       "\n",
       "    .dataframe thead th {\n",
       "        text-align: right;\n",
       "    }\n",
       "</style>\n",
       "<table border=\"1\" class=\"dataframe\">\n",
       "  <thead>\n",
       "    <tr style=\"text-align: right;\">\n",
       "      <th></th>\n",
       "      <th>sentence1</th>\n",
       "      <th>sentence2</th>\n",
       "      <th>gold_label</th>\n",
       "    </tr>\n",
       "  </thead>\n",
       "  <tbody>\n",
       "    <tr>\n",
       "      <th>0</th>\n",
       "      <td>Conceptually cream skimming has two basic dime...</td>\n",
       "      <td>Product and geography are what make cream skim...</td>\n",
       "      <td>neutral</td>\n",
       "    </tr>\n",
       "    <tr>\n",
       "      <th>1</th>\n",
       "      <td>you know during the season and i guess at at y...</td>\n",
       "      <td>You lose the things to the following level if ...</td>\n",
       "      <td>entailment</td>\n",
       "    </tr>\n",
       "    <tr>\n",
       "      <th>2</th>\n",
       "      <td>One of our number will carry out your instruct...</td>\n",
       "      <td>A member of my team will execute your orders w...</td>\n",
       "      <td>entailment</td>\n",
       "    </tr>\n",
       "    <tr>\n",
       "      <th>3</th>\n",
       "      <td>How do you know? All this is their information...</td>\n",
       "      <td>This information belongs to them.</td>\n",
       "      <td>entailment</td>\n",
       "    </tr>\n",
       "    <tr>\n",
       "      <th>4</th>\n",
       "      <td>yeah i tell you what though if you go price so...</td>\n",
       "      <td>The tennis shoes have a range of prices.</td>\n",
       "      <td>neutral</td>\n",
       "    </tr>\n",
       "  </tbody>\n",
       "</table>\n",
       "</div>"
      ],
      "text/plain": [
       "                                           sentence1  \\\n",
       "0  Conceptually cream skimming has two basic dime...   \n",
       "1  you know during the season and i guess at at y...   \n",
       "2  One of our number will carry out your instruct...   \n",
       "3  How do you know? All this is their information...   \n",
       "4  yeah i tell you what though if you go price so...   \n",
       "\n",
       "                                           sentence2  gold_label  \n",
       "0  Product and geography are what make cream skim...     neutral  \n",
       "1  You lose the things to the following level if ...  entailment  \n",
       "2  A member of my team will execute your orders w...  entailment  \n",
       "3                  This information belongs to them.  entailment  \n",
       "4           The tennis shoes have a range of prices.     neutral  "
      ]
     },
     "execution_count": 5,
     "metadata": {},
     "output_type": "execute_result"
    }
   ],
   "source": [
    "extracted_data = [{'sentence1': item['sentence1'], \n",
    "\n",
    "                   'sentence2': item['sentence2'], \n",
    "\n",
    "                   'gold_label': item['gold_label']} \n",
    "\n",
    "                  for item in data if item['gold_label'] in ['neutral', 'entailment', 'contradiction']]\n",
    "\n",
    "# Convertir en DataFrame pour simplifier le traitement\n",
    "\n",
    "df = pd.DataFrame(extracted_data)\n",
    "\n",
    "# Aperçu des données extraites\n",
    "\n",
    "df.head()"
   ]
  },
  {
   "cell_type": "code",
   "execution_count": 6,
   "id": "72db95a6-4782-4383-a4d7-df20b14f2489",
   "metadata": {
    "tags": []
   },
   "outputs": [],
   "source": [
    "df_subset = df.sample(n=5000, random_state=42)"
   ]
  },
  {
   "cell_type": "code",
   "execution_count": 8,
   "id": "9d494220-2670-42a3-878b-e61f637860f3",
   "metadata": {
    "tags": []
   },
   "outputs": [],
   "source": [
    "def common_word_ratios(s1, s2):\n",
    "    words1 = set(str(s1).split())\n",
    "    words2 = set(str(s2).split())\n",
    "    common = len(words1 & words2)\n",
    "    return common / max(len(words1), 1), common / max(len(words2), 1)\n",
    "\n",
    "# Ajouter une colonne avec le nombre de mots en commun\n",
    "df_subset[\"common_ratio_s1\"], df_subset[\"common_ratio_s2\"] = zip(*df_subset.apply(lambda row: common_word_ratios(row[\"sentence1\"], row[\"sentence2\"]), axis=1))\n"
   ]
  },
  {
   "cell_type": "code",
   "execution_count": 9,
   "id": "59f6c186-1e1d-4d38-b8ac-46e6f8960adc",
   "metadata": {
    "tags": []
   },
   "outputs": [
    {
     "data": {
      "text/html": [
       "<div>\n",
       "<style scoped>\n",
       "    .dataframe tbody tr th:only-of-type {\n",
       "        vertical-align: middle;\n",
       "    }\n",
       "\n",
       "    .dataframe tbody tr th {\n",
       "        vertical-align: top;\n",
       "    }\n",
       "\n",
       "    .dataframe thead th {\n",
       "        text-align: right;\n",
       "    }\n",
       "</style>\n",
       "<table border=\"1\" class=\"dataframe\">\n",
       "  <thead>\n",
       "    <tr style=\"text-align: right;\">\n",
       "      <th></th>\n",
       "      <th>sentence1</th>\n",
       "      <th>sentence2</th>\n",
       "      <th>gold_label</th>\n",
       "      <th>common_ratio_s1</th>\n",
       "      <th>common_ratio_s2</th>\n",
       "    </tr>\n",
       "  </thead>\n",
       "  <tbody>\n",
       "    <tr>\n",
       "      <th>155219</th>\n",
       "      <td>That's all right.</td>\n",
       "      <td>That's fine.</td>\n",
       "      <td>entailment</td>\n",
       "      <td>0.333333</td>\n",
       "      <td>0.500000</td>\n",
       "    </tr>\n",
       "    <tr>\n",
       "      <th>327538</th>\n",
       "      <td>Televisions are expensive these days.</td>\n",
       "      <td>Televisions cost $200 when you purchase them f...</td>\n",
       "      <td>neutral</td>\n",
       "      <td>0.200000</td>\n",
       "      <td>0.111111</td>\n",
       "    </tr>\n",
       "    <tr>\n",
       "      <th>325456</th>\n",
       "      <td>The colonial porte cochre sets the tone for Wa...</td>\n",
       "      <td>The colonial porte coche on the front of the p...</td>\n",
       "      <td>neutral</td>\n",
       "      <td>0.235294</td>\n",
       "      <td>0.307692</td>\n",
       "    </tr>\n",
       "    <tr>\n",
       "      <th>341461</th>\n",
       "      <td>and you just sift</td>\n",
       "      <td>Don't sift, ever.</td>\n",
       "      <td>contradiction</td>\n",
       "      <td>0.000000</td>\n",
       "      <td>0.000000</td>\n",
       "    </tr>\n",
       "    <tr>\n",
       "      <th>54698</th>\n",
       "      <td>You think there's somethin' in all that talk T...</td>\n",
       "      <td>Topham had supported the talk due to his own d...</td>\n",
       "      <td>neutral</td>\n",
       "      <td>0.133333</td>\n",
       "      <td>0.166667</td>\n",
       "    </tr>\n",
       "    <tr>\n",
       "      <th>...</th>\n",
       "      <td>...</td>\n",
       "      <td>...</td>\n",
       "      <td>...</td>\n",
       "      <td>...</td>\n",
       "      <td>...</td>\n",
       "    </tr>\n",
       "    <tr>\n",
       "      <th>201204</th>\n",
       "      <td>You'd think instead of messing around with Win...</td>\n",
       "      <td>Old people mostly like brand names that they h...</td>\n",
       "      <td>neutral</td>\n",
       "      <td>0.052632</td>\n",
       "      <td>0.076923</td>\n",
       "    </tr>\n",
       "    <tr>\n",
       "      <th>108582</th>\n",
       "      <td>because i know on some at times the news you k...</td>\n",
       "      <td>I had based my opinion on what I had seen on t...</td>\n",
       "      <td>entailment</td>\n",
       "      <td>0.176471</td>\n",
       "      <td>0.375000</td>\n",
       "    </tr>\n",
       "    <tr>\n",
       "      <th>201821</th>\n",
       "      <td>pardon yes right there needs to be more than o...</td>\n",
       "      <td>There needs to be a measure of certainty befor...</td>\n",
       "      <td>neutral</td>\n",
       "      <td>0.419355</td>\n",
       "      <td>0.722222</td>\n",
       "    </tr>\n",
       "    <tr>\n",
       "      <th>267942</th>\n",
       "      <td>As the name chosen for the Clear Skies Act imp...</td>\n",
       "      <td>Implementation of the SO2 and NOx emissions ca...</td>\n",
       "      <td>entailment</td>\n",
       "      <td>0.258065</td>\n",
       "      <td>0.666667</td>\n",
       "    </tr>\n",
       "    <tr>\n",
       "      <th>282586</th>\n",
       "      <td>yeah  i'll tell you in the state of Rhode Isla...</td>\n",
       "      <td>A judge in Rhode Island fined the state becaus...</td>\n",
       "      <td>neutral</td>\n",
       "      <td>0.324324</td>\n",
       "      <td>0.666667</td>\n",
       "    </tr>\n",
       "  </tbody>\n",
       "</table>\n",
       "<p>5000 rows × 5 columns</p>\n",
       "</div>"
      ],
      "text/plain": [
       "                                                sentence1  \\\n",
       "155219                                  That's all right.   \n",
       "327538              Televisions are expensive these days.   \n",
       "325456  The colonial porte cochre sets the tone for Wa...   \n",
       "341461                                  and you just sift   \n",
       "54698   You think there's somethin' in all that talk T...   \n",
       "...                                                   ...   \n",
       "201204  You'd think instead of messing around with Win...   \n",
       "108582  because i know on some at times the news you k...   \n",
       "201821  pardon yes right there needs to be more than o...   \n",
       "267942  As the name chosen for the Clear Skies Act imp...   \n",
       "282586  yeah  i'll tell you in the state of Rhode Isla...   \n",
       "\n",
       "                                                sentence2     gold_label  \\\n",
       "155219                                       That's fine.     entailment   \n",
       "327538  Televisions cost $200 when you purchase them f...        neutral   \n",
       "325456  The colonial porte coche on the front of the p...        neutral   \n",
       "341461                                  Don't sift, ever.  contradiction   \n",
       "54698   Topham had supported the talk due to his own d...        neutral   \n",
       "...                                                   ...            ...   \n",
       "201204  Old people mostly like brand names that they h...        neutral   \n",
       "108582  I had based my opinion on what I had seen on t...     entailment   \n",
       "201821  There needs to be a measure of certainty befor...        neutral   \n",
       "267942  Implementation of the SO2 and NOx emissions ca...     entailment   \n",
       "282586  A judge in Rhode Island fined the state becaus...        neutral   \n",
       "\n",
       "        common_ratio_s1  common_ratio_s2  \n",
       "155219         0.333333         0.500000  \n",
       "327538         0.200000         0.111111  \n",
       "325456         0.235294         0.307692  \n",
       "341461         0.000000         0.000000  \n",
       "54698          0.133333         0.166667  \n",
       "...                 ...              ...  \n",
       "201204         0.052632         0.076923  \n",
       "108582         0.176471         0.375000  \n",
       "201821         0.419355         0.722222  \n",
       "267942         0.258065         0.666667  \n",
       "282586         0.324324         0.666667  \n",
       "\n",
       "[5000 rows x 5 columns]"
      ]
     },
     "execution_count": 9,
     "metadata": {},
     "output_type": "execute_result"
    }
   ],
   "source": [
    "df_subset"
   ]
  },
  {
   "cell_type": "code",
   "execution_count": 10,
   "id": "017ebb20-758e-4a6b-b4be-54e1fd8c0a01",
   "metadata": {
    "tags": []
   },
   "outputs": [],
   "source": [
    "label_mapping = {\"neutral\": 0, \"contradiction\": 1, \"entailment\": 2}\n",
    "df_subset['gold_label'] = df_subset['gold_label'].map(label_mapping)"
   ]
  },
  {
   "cell_type": "code",
   "execution_count": 11,
   "id": "46c445aa-5256-479e-8702-1a03087bef86",
   "metadata": {
    "tags": []
   },
   "outputs": [
    {
     "data": {
      "text/plain": [
       "327538    0\n",
       "325456    0\n",
       "341461    1\n",
       "54698     0\n",
       "38374     1\n",
       "284865    2\n",
       "333146    2\n",
       "216074    1\n",
       "125620    0\n",
       "Name: gold_label, dtype: int64"
      ]
     },
     "execution_count": 11,
     "metadata": {},
     "output_type": "execute_result"
    }
   ],
   "source": [
    "df_subset['gold_label'][1:10]"
   ]
  },
  {
   "cell_type": "code",
   "execution_count": 12,
   "id": "af6f6e3c-bc11-45c3-bd1f-473bf411a975",
   "metadata": {
    "tags": []
   },
   "outputs": [],
   "source": [
    "vectorizer = TfidfVectorizer(max_features=5000)  # Limite à 5000 features pour éviter la surcharge mémoire\n",
    "X1 = vectorizer.fit_transform(df_subset[\"sentence1\"])\n",
    "X2 = vectorizer.transform(df_subset[\"sentence2\"])"
   ]
  },
  {
   "cell_type": "code",
   "execution_count": 14,
   "id": "849474be-8c0c-4efc-96ce-36d83124b343",
   "metadata": {
    "tags": []
   },
   "outputs": [],
   "source": [
    "X_common_s1 = np.array(df_subset[\"common_ratio_s1\"]).reshape(-1, 1)\n",
    "X_common_s2 = np.array(df_subset[\"common_ratio_s2\"]).reshape(-1, 1)"
   ]
  },
  {
   "cell_type": "code",
   "execution_count": 15,
   "id": "cab55530-eccd-4576-abce-ef27572b80e5",
   "metadata": {
    "tags": []
   },
   "outputs": [],
   "source": [
    "from scipy.sparse import hstack"
   ]
  },
  {
   "cell_type": "code",
   "execution_count": 16,
   "id": "723fde0b-1df3-4ef5-8292-a66691087e09",
   "metadata": {
    "tags": []
   },
   "outputs": [],
   "source": [
    "X = hstack([X1, X2, X_common_s1, X_common_s2])\n",
    "y = df_subset[\"gold_label\"]"
   ]
  },
  {
   "cell_type": "code",
   "execution_count": 17,
   "id": "ba2c5139-32fd-45c3-9dd4-81531009424f",
   "metadata": {
    "tags": []
   },
   "outputs": [],
   "source": [
    "X_train, X_test, y_train, y_test = train_test_split(X, y, test_size=0.2, random_state=42)"
   ]
  },
  {
   "cell_type": "code",
   "execution_count": 18,
   "id": "8110c035-c494-4a3a-8e81-8c87f9197fb6",
   "metadata": {
    "tags": []
   },
   "outputs": [
    {
     "data": {
      "text/html": [
       "<style>#sk-container-id-1 {color: black;background-color: white;}#sk-container-id-1 pre{padding: 0;}#sk-container-id-1 div.sk-toggleable {background-color: white;}#sk-container-id-1 label.sk-toggleable__label {cursor: pointer;display: block;width: 100%;margin-bottom: 0;padding: 0.3em;box-sizing: border-box;text-align: center;}#sk-container-id-1 label.sk-toggleable__label-arrow:before {content: \"▸\";float: left;margin-right: 0.25em;color: #696969;}#sk-container-id-1 label.sk-toggleable__label-arrow:hover:before {color: black;}#sk-container-id-1 div.sk-estimator:hover label.sk-toggleable__label-arrow:before {color: black;}#sk-container-id-1 div.sk-toggleable__content {max-height: 0;max-width: 0;overflow: hidden;text-align: left;background-color: #f0f8ff;}#sk-container-id-1 div.sk-toggleable__content pre {margin: 0.2em;color: black;border-radius: 0.25em;background-color: #f0f8ff;}#sk-container-id-1 input.sk-toggleable__control:checked~div.sk-toggleable__content {max-height: 200px;max-width: 100%;overflow: auto;}#sk-container-id-1 input.sk-toggleable__control:checked~label.sk-toggleable__label-arrow:before {content: \"▾\";}#sk-container-id-1 div.sk-estimator input.sk-toggleable__control:checked~label.sk-toggleable__label {background-color: #d4ebff;}#sk-container-id-1 div.sk-label input.sk-toggleable__control:checked~label.sk-toggleable__label {background-color: #d4ebff;}#sk-container-id-1 input.sk-hidden--visually {border: 0;clip: rect(1px 1px 1px 1px);clip: rect(1px, 1px, 1px, 1px);height: 1px;margin: -1px;overflow: hidden;padding: 0;position: absolute;width: 1px;}#sk-container-id-1 div.sk-estimator {font-family: monospace;background-color: #f0f8ff;border: 1px dotted black;border-radius: 0.25em;box-sizing: border-box;margin-bottom: 0.5em;}#sk-container-id-1 div.sk-estimator:hover {background-color: #d4ebff;}#sk-container-id-1 div.sk-parallel-item::after {content: \"\";width: 100%;border-bottom: 1px solid gray;flex-grow: 1;}#sk-container-id-1 div.sk-label:hover label.sk-toggleable__label {background-color: #d4ebff;}#sk-container-id-1 div.sk-serial::before {content: \"\";position: absolute;border-left: 1px solid gray;box-sizing: border-box;top: 0;bottom: 0;left: 50%;z-index: 0;}#sk-container-id-1 div.sk-serial {display: flex;flex-direction: column;align-items: center;background-color: white;padding-right: 0.2em;padding-left: 0.2em;position: relative;}#sk-container-id-1 div.sk-item {position: relative;z-index: 1;}#sk-container-id-1 div.sk-parallel {display: flex;align-items: stretch;justify-content: center;background-color: white;position: relative;}#sk-container-id-1 div.sk-item::before, #sk-container-id-1 div.sk-parallel-item::before {content: \"\";position: absolute;border-left: 1px solid gray;box-sizing: border-box;top: 0;bottom: 0;left: 50%;z-index: -1;}#sk-container-id-1 div.sk-parallel-item {display: flex;flex-direction: column;z-index: 1;position: relative;background-color: white;}#sk-container-id-1 div.sk-parallel-item:first-child::after {align-self: flex-end;width: 50%;}#sk-container-id-1 div.sk-parallel-item:last-child::after {align-self: flex-start;width: 50%;}#sk-container-id-1 div.sk-parallel-item:only-child::after {width: 0;}#sk-container-id-1 div.sk-dashed-wrapped {border: 1px dashed gray;margin: 0 0.4em 0.5em 0.4em;box-sizing: border-box;padding-bottom: 0.4em;background-color: white;}#sk-container-id-1 div.sk-label label {font-family: monospace;font-weight: bold;display: inline-block;line-height: 1.2em;}#sk-container-id-1 div.sk-label-container {text-align: center;}#sk-container-id-1 div.sk-container {/* jupyter's `normalize.less` sets `[hidden] { display: none; }` but bootstrap.min.css set `[hidden] { display: none !important; }` so we also need the `!important` here to be able to override the default hidden behavior on the sphinx rendered scikit-learn.org. See: https://github.com/scikit-learn/scikit-learn/issues/21755 */display: inline-block !important;position: relative;}#sk-container-id-1 div.sk-text-repr-fallback {display: none;}</style><div id=\"sk-container-id-1\" class=\"sk-top-container\"><div class=\"sk-text-repr-fallback\"><pre>SVC(kernel=&#x27;linear&#x27;)</pre><b>In a Jupyter environment, please rerun this cell to show the HTML representation or trust the notebook. <br />On GitHub, the HTML representation is unable to render, please try loading this page with nbviewer.org.</b></div><div class=\"sk-container\" hidden><div class=\"sk-item\"><div class=\"sk-estimator sk-toggleable\"><input class=\"sk-toggleable__control sk-hidden--visually\" id=\"sk-estimator-id-1\" type=\"checkbox\" checked><label for=\"sk-estimator-id-1\" class=\"sk-toggleable__label sk-toggleable__label-arrow\">SVC</label><div class=\"sk-toggleable__content\"><pre>SVC(kernel=&#x27;linear&#x27;)</pre></div></div></div></div></div>"
      ],
      "text/plain": [
       "SVC(kernel='linear')"
      ]
     },
     "execution_count": 18,
     "metadata": {},
     "output_type": "execute_result"
    }
   ],
   "source": [
    "svm_model = SVC(kernel=\"linear\")\n",
    "svm_model.fit(X_train, y_train)"
   ]
  },
  {
   "cell_type": "code",
   "execution_count": 19,
   "id": "cc6be63c-690f-4044-b36b-aeb16e98cf3a",
   "metadata": {
    "tags": []
   },
   "outputs": [],
   "source": [
    "y_pred = svm_model.predict(X_test)"
   ]
  },
  {
   "cell_type": "code",
   "execution_count": 20,
   "id": "9da728f2-12be-486b-9d52-a168ead998bd",
   "metadata": {
    "tags": []
   },
   "outputs": [
    {
     "name": "stdout",
     "output_type": "stream",
     "text": [
      "               precision    recall  f1-score   support\n",
      "\n",
      "      neutral       0.48      0.48      0.48       344\n",
      "contradiction       0.50      0.51      0.50       320\n",
      "   entailment       0.50      0.49      0.50       336\n",
      "\n",
      "     accuracy                           0.49      1000\n",
      "    macro avg       0.49      0.49      0.49      1000\n",
      " weighted avg       0.49      0.49      0.49      1000\n",
      "\n"
     ]
    }
   ],
   "source": [
    "print(classification_report(y_test, y_pred, target_names=label_mapping.keys()))"
   ]
  },
  {
   "cell_type": "code",
   "execution_count": 21,
   "id": "0792ebdf-c5da-44ea-88f5-429248e883d3",
   "metadata": {},
   "outputs": [
    {
     "name": "stdout",
     "output_type": "stream",
     "text": [
      "              precision    recall  f1-score   support\n",
      "\n",
      "           0       0.48      0.48      0.48       344\n",
      "           1       0.50      0.51      0.50       320\n",
      "           2       0.50      0.49      0.50       336\n",
      "\n",
      "    accuracy                           0.49      1000\n",
      "   macro avg       0.49      0.49      0.49      1000\n",
      "weighted avg       0.49      0.49      0.49      1000\n",
      "\n"
     ]
    },
    {
     "data": {
      "image/png": "[encoded data removed]",
      "text/plain": [
       "<Figure size 600x400 with 2 Axes>"
      ]
     },
     "metadata": {},
     "output_type": "display_data"
    }
   ],
   "source": [
    "print(classification_report(y_test, y_pred))\n",
    "\n",
    "# Générer la matrice de confusion\n",
    "conf_matrix = confusion_matrix(y_test, y_pred)\n",
    "\n",
    "# Afficher la matrice de confusion\n",
    "plt.figure(figsize=(6, 4))\n",
    "sns.heatmap(conf_matrix, annot=True, fmt='d', cmap='Blues', xticklabels=svm_model.classes_, yticklabels=svm_model.classes_)\n",
    "plt.xlabel(\"Prédictions\")\n",
    "plt.ylabel(\"Réel\")\n",
    "plt.title(\"Matrice de Confusion\")\n",
    "plt.show()"
   ]
  },
  {
   "cell_type": "code",
   "execution_count": null,
   "id": "4d9b8444-3928-498b-b6dc-05af6b51d45b",
   "metadata": {},
   "outputs": [],
   "source": []
  }
 ],
 "metadata": {
  "kernelspec": {
   "display_name": "Python 3 (ipykernel)",
   "language": "python",
   "name": "python3"
  },
  "language_info": {
   "codemirror_mode": {
    "name": "ipython",
    "version": 3
   },
   "file_extension": ".py",
   "mimetype": "text/x-python",
   "name": "python",
   "nbconvert_exporter": "python",
   "pygments_lexer": "ipython3",
   "version": "3.10.8"
  }
 },
 "nbformat": 4,
 "nbformat_minor": 5
}
